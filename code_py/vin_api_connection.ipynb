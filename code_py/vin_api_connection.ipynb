{
 "cells": [
  {
   "cell_type": "markdown",
   "metadata": {},
   "source": [
    "# VIN information taking"
   ]
  },
  {
   "cell_type": "code",
   "execution_count": 1,
   "metadata": {
    "ExecuteTime": {
     "end_time": "2019-12-19T09:08:08.710419Z",
     "start_time": "2019-12-19T09:08:02.794458Z"
    }
   },
   "outputs": [],
   "source": [
    "import pandas as pd\n",
    "import numpy as np\n",
    "# !pip install vininfo\n",
    "import vininfo\n",
    "# !pip install geopy\n",
    "from geopy import geocoders  "
   ]
  },
  {
   "cell_type": "code",
   "execution_count": 2,
   "metadata": {
    "ExecuteTime": {
     "end_time": "2019-12-19T09:08:50.605283Z",
     "start_time": "2019-12-19T09:08:08.716014Z"
    }
   },
   "outputs": [],
   "source": [
    "data= pd.read_csv(r\"C:\\Users\\Wenceslas\\Dropbox\\MoSEF\\cours\\DATA_MINING_R\\pojet_car\\data\\craigslistVehicles.csv\")"
   ]
  },
  {
   "cell_type": "code",
   "execution_count": 3,
   "metadata": {
    "ExecuteTime": {
     "end_time": "2019-12-19T09:08:50.723987Z",
     "start_time": "2019-12-19T09:08:50.612473Z"
    }
   },
   "outputs": [
    {
     "data": {
      "text/html": [
       "<div>\n",
       "<style scoped>\n",
       "    .dataframe tbody tr th:only-of-type {\n",
       "        vertical-align: middle;\n",
       "    }\n",
       "\n",
       "    .dataframe tbody tr th {\n",
       "        vertical-align: top;\n",
       "    }\n",
       "\n",
       "    .dataframe thead th {\n",
       "        text-align: right;\n",
       "    }\n",
       "</style>\n",
       "<table border=\"1\" class=\"dataframe\">\n",
       "  <thead>\n",
       "    <tr style=\"text-align: right;\">\n",
       "      <th></th>\n",
       "      <th>url</th>\n",
       "      <th>city</th>\n",
       "      <th>city_url</th>\n",
       "      <th>price</th>\n",
       "      <th>year</th>\n",
       "      <th>manufacturer</th>\n",
       "      <th>make</th>\n",
       "      <th>condition</th>\n",
       "      <th>cylinders</th>\n",
       "      <th>fuel</th>\n",
       "      <th>...</th>\n",
       "      <th>transmission</th>\n",
       "      <th>VIN</th>\n",
       "      <th>drive</th>\n",
       "      <th>size</th>\n",
       "      <th>type</th>\n",
       "      <th>paint_color</th>\n",
       "      <th>image_url</th>\n",
       "      <th>desc</th>\n",
       "      <th>lat</th>\n",
       "      <th>long</th>\n",
       "    </tr>\n",
       "  </thead>\n",
       "  <tbody>\n",
       "    <tr>\n",
       "      <th>0</th>\n",
       "      <td>https://grandrapids.craigslist.org/cto/d/hasti...</td>\n",
       "      <td>grand rapids, MI</td>\n",
       "      <td>https://grandrapids.craigslist.org</td>\n",
       "      <td>1500</td>\n",
       "      <td>2006.0</td>\n",
       "      <td>cadillac</td>\n",
       "      <td>cts</td>\n",
       "      <td>good</td>\n",
       "      <td>6 cylinders</td>\n",
       "      <td>gas</td>\n",
       "      <td>...</td>\n",
       "      <td>automatic</td>\n",
       "      <td>NaN</td>\n",
       "      <td>rwd</td>\n",
       "      <td>mid-size</td>\n",
       "      <td>coupe</td>\n",
       "      <td>blue</td>\n",
       "      <td>https://images.craigslist.org/00K0K_a9CZoZg2U8...</td>\n",
       "      <td>2006 CtS Leather, Runs and drives Good.236k mil</td>\n",
       "      <td>42.643000</td>\n",
       "      <td>-85.293700</td>\n",
       "    </tr>\n",
       "    <tr>\n",
       "      <th>1</th>\n",
       "      <td>https://grandrapids.craigslist.org/cto/d/grand...</td>\n",
       "      <td>grand rapids, MI</td>\n",
       "      <td>https://grandrapids.craigslist.org</td>\n",
       "      <td>8900</td>\n",
       "      <td>2009.0</td>\n",
       "      <td>lincoln</td>\n",
       "      <td>mkx</td>\n",
       "      <td>NaN</td>\n",
       "      <td>NaN</td>\n",
       "      <td>gas</td>\n",
       "      <td>...</td>\n",
       "      <td>automatic</td>\n",
       "      <td>NaN</td>\n",
       "      <td>NaN</td>\n",
       "      <td>NaN</td>\n",
       "      <td>NaN</td>\n",
       "      <td>NaN</td>\n",
       "      <td>https://images.craigslist.org/00a0a_9B4kPBDIWd...</td>\n",
       "      <td>Selling our loaded 2009 Lincoln MKX with 119,0...</td>\n",
       "      <td>42.973700</td>\n",
       "      <td>-85.726500</td>\n",
       "    </tr>\n",
       "    <tr>\n",
       "      <th>2</th>\n",
       "      <td>https://grandrapids.craigslist.org/ctd/d/chesa...</td>\n",
       "      <td>grand rapids, MI</td>\n",
       "      <td>https://grandrapids.craigslist.org</td>\n",
       "      <td>7995</td>\n",
       "      <td>2010.0</td>\n",
       "      <td>cadillac</td>\n",
       "      <td>srx premium collection</td>\n",
       "      <td>NaN</td>\n",
       "      <td>NaN</td>\n",
       "      <td>gas</td>\n",
       "      <td>...</td>\n",
       "      <td>automatic</td>\n",
       "      <td>3GYFNCEYXAS552363</td>\n",
       "      <td>NaN</td>\n",
       "      <td>NaN</td>\n",
       "      <td>NaN</td>\n",
       "      <td>NaN</td>\n",
       "      <td>https://images.craigslist.org/00X0X_8i0VRuk7Cv...</td>\n",
       "      <td>WE HAVE OVER 400 VEHICLES IN STOCK!\\n\\n View O...</td>\n",
       "      <td>43.186723</td>\n",
       "      <td>-84.163862</td>\n",
       "    </tr>\n",
       "    <tr>\n",
       "      <th>3</th>\n",
       "      <td>https://grandrapids.craigslist.org/ctd/d/chesa...</td>\n",
       "      <td>grand rapids, MI</td>\n",
       "      <td>https://grandrapids.craigslist.org</td>\n",
       "      <td>6995</td>\n",
       "      <td>2007.0</td>\n",
       "      <td>NaN</td>\n",
       "      <td>hummer h3 4dr 4wd suv</td>\n",
       "      <td>NaN</td>\n",
       "      <td>NaN</td>\n",
       "      <td>gas</td>\n",
       "      <td>...</td>\n",
       "      <td>automatic</td>\n",
       "      <td>5GTDN13E478107380</td>\n",
       "      <td>NaN</td>\n",
       "      <td>NaN</td>\n",
       "      <td>NaN</td>\n",
       "      <td>NaN</td>\n",
       "      <td>https://images.craigslist.org/00b0b_ahkmUzr4cE...</td>\n",
       "      <td>WE HAVE OVER 400 VEHICLES IN STOCK!\\n\\n View O...</td>\n",
       "      <td>43.186723</td>\n",
       "      <td>-84.163862</td>\n",
       "    </tr>\n",
       "    <tr>\n",
       "      <th>4</th>\n",
       "      <td>https://grandrapids.craigslist.org/ctd/d/caled...</td>\n",
       "      <td>grand rapids, MI</td>\n",
       "      <td>https://grandrapids.craigslist.org</td>\n",
       "      <td>20990</td>\n",
       "      <td>2010.0</td>\n",
       "      <td>ram</td>\n",
       "      <td>2500</td>\n",
       "      <td>excellent</td>\n",
       "      <td>6 cylinders</td>\n",
       "      <td>diesel</td>\n",
       "      <td>...</td>\n",
       "      <td>automatic</td>\n",
       "      <td>3D7UT2CL4AG113236</td>\n",
       "      <td>4wd</td>\n",
       "      <td>NaN</td>\n",
       "      <td>NaN</td>\n",
       "      <td>white</td>\n",
       "      <td>https://images.craigslist.org/00505_3DHY0kFrgb...</td>\n",
       "      <td>Great looking 2010 Ram 2500 ST w/6.7L 24V I6 4...</td>\n",
       "      <td>42.783714</td>\n",
       "      <td>-85.506777</td>\n",
       "    </tr>\n",
       "  </tbody>\n",
       "</table>\n",
       "<p>5 rows × 22 columns</p>\n",
       "</div>"
      ],
      "text/plain": [
       "                                                 url              city  \\\n",
       "0  https://grandrapids.craigslist.org/cto/d/hasti...  grand rapids, MI   \n",
       "1  https://grandrapids.craigslist.org/cto/d/grand...  grand rapids, MI   \n",
       "2  https://grandrapids.craigslist.org/ctd/d/chesa...  grand rapids, MI   \n",
       "3  https://grandrapids.craigslist.org/ctd/d/chesa...  grand rapids, MI   \n",
       "4  https://grandrapids.craigslist.org/ctd/d/caled...  grand rapids, MI   \n",
       "\n",
       "                             city_url  price    year manufacturer  \\\n",
       "0  https://grandrapids.craigslist.org   1500  2006.0     cadillac   \n",
       "1  https://grandrapids.craigslist.org   8900  2009.0      lincoln   \n",
       "2  https://grandrapids.craigslist.org   7995  2010.0     cadillac   \n",
       "3  https://grandrapids.craigslist.org   6995  2007.0          NaN   \n",
       "4  https://grandrapids.craigslist.org  20990  2010.0          ram   \n",
       "\n",
       "                     make  condition    cylinders    fuel  ...  transmission  \\\n",
       "0                     cts       good  6 cylinders     gas  ...     automatic   \n",
       "1                     mkx        NaN          NaN     gas  ...     automatic   \n",
       "2  srx premium collection        NaN          NaN     gas  ...     automatic   \n",
       "3   hummer h3 4dr 4wd suv        NaN          NaN     gas  ...     automatic   \n",
       "4                    2500  excellent  6 cylinders  diesel  ...     automatic   \n",
       "\n",
       "                 VIN drive      size   type paint_color  \\\n",
       "0                NaN   rwd  mid-size  coupe        blue   \n",
       "1                NaN   NaN       NaN    NaN         NaN   \n",
       "2  3GYFNCEYXAS552363   NaN       NaN    NaN         NaN   \n",
       "3  5GTDN13E478107380   NaN       NaN    NaN         NaN   \n",
       "4  3D7UT2CL4AG113236   4wd       NaN    NaN       white   \n",
       "\n",
       "                                           image_url  \\\n",
       "0  https://images.craigslist.org/00K0K_a9CZoZg2U8...   \n",
       "1  https://images.craigslist.org/00a0a_9B4kPBDIWd...   \n",
       "2  https://images.craigslist.org/00X0X_8i0VRuk7Cv...   \n",
       "3  https://images.craigslist.org/00b0b_ahkmUzr4cE...   \n",
       "4  https://images.craigslist.org/00505_3DHY0kFrgb...   \n",
       "\n",
       "                                                desc        lat       long  \n",
       "0    2006 CtS Leather, Runs and drives Good.236k mil  42.643000 -85.293700  \n",
       "1  Selling our loaded 2009 Lincoln MKX with 119,0...  42.973700 -85.726500  \n",
       "2  WE HAVE OVER 400 VEHICLES IN STOCK!\\n\\n View O...  43.186723 -84.163862  \n",
       "3  WE HAVE OVER 400 VEHICLES IN STOCK!\\n\\n View O...  43.186723 -84.163862  \n",
       "4  Great looking 2010 Ram 2500 ST w/6.7L 24V I6 4...  42.783714 -85.506777  \n",
       "\n",
       "[5 rows x 22 columns]"
      ]
     },
     "execution_count": 3,
     "metadata": {},
     "output_type": "execute_result"
    }
   ],
   "source": [
    "data.head()"
   ]
  },
  {
   "cell_type": "code",
   "execution_count": 4,
   "metadata": {
    "ExecuteTime": {
     "end_time": "2019-12-19T09:08:51.966960Z",
     "start_time": "2019-12-19T09:08:50.731158Z"
    }
   },
   "outputs": [
    {
     "name": "stdout",
     "output_type": "stream",
     "text": [
      "<class 'pandas.core.frame.DataFrame'>\n",
      "RangeIndex: 525839 entries, 0 to 525838\n",
      "Data columns (total 22 columns):\n",
      "url             525839 non-null object\n",
      "city            525839 non-null object\n",
      "city_url        525839 non-null object\n",
      "price           525839 non-null int64\n",
      "year            524399 non-null float64\n",
      "manufacturer    501260 non-null object\n",
      "make            517201 non-null object\n",
      "condition       279881 non-null object\n",
      "cylinders       315439 non-null object\n",
      "fuel            521544 non-null object\n",
      "odometer        427248 non-null float64\n",
      "title_status    523014 non-null object\n",
      "transmission    521572 non-null object\n",
      "VIN             305653 non-null object\n",
      "drive           374475 non-null object\n",
      "size            174519 non-null object\n",
      "type            376906 non-null object\n",
      "paint_color     354306 non-null object\n",
      "image_url       525831 non-null object\n",
      "desc            525815 non-null object\n",
      "lat             513618 non-null float64\n",
      "long            513618 non-null float64\n",
      "dtypes: float64(4), int64(1), object(17)\n",
      "memory usage: 88.3+ MB\n"
     ]
    }
   ],
   "source": [
    "data.info()"
   ]
  },
  {
   "cell_type": "code",
   "execution_count": 5,
   "metadata": {
    "ExecuteTime": {
     "end_time": "2019-12-19T09:08:51.979630Z",
     "start_time": "2019-12-19T09:08:51.968976Z"
    }
   },
   "outputs": [],
   "source": [
    "from vininfo import Vin"
   ]
  },
  {
   "cell_type": "code",
   "execution_count": 10,
   "metadata": {
    "ExecuteTime": {
     "end_time": "2019-12-19T09:11:21.970902Z",
     "start_time": "2019-12-19T09:11:21.960799Z"
    }
   },
   "outputs": [],
   "source": [
    "vin= Vin(\"5GTDN13E478107380\")"
   ]
  },
  {
   "cell_type": "code",
   "execution_count": 11,
   "metadata": {
    "ExecuteTime": {
     "end_time": "2019-12-19T09:11:23.761529Z",
     "start_time": "2019-12-19T09:11:23.753707Z"
    }
   },
   "outputs": [
    {
     "data": {
      "text/plain": [
       "OrderedDict([('Country', 'United States'),\n",
       "             ('Manufacturer', 'Hummer'),\n",
       "             ('Region', 'North America'),\n",
       "             ('Years', '2007')])"
      ]
     },
     "execution_count": 11,
     "metadata": {},
     "output_type": "execute_result"
    }
   ],
   "source": [
    "test=vin.annotate()\n",
    "test"
   ]
  },
  {
   "cell_type": "code",
   "execution_count": 79,
   "metadata": {
    "ExecuteTime": {
     "end_time": "2019-12-18T07:32:07.786280Z",
     "start_time": "2019-12-18T07:32:07.781288Z"
    }
   },
   "outputs": [
    {
     "data": {
      "text/plain": [
       "'Hummer'"
      ]
     },
     "execution_count": 79,
     "metadata": {},
     "output_type": "execute_result"
    }
   ],
   "source": [
    "test[\"Manufacturer\"]"
   ]
  },
  {
   "cell_type": "code",
   "execution_count": 61,
   "metadata": {
    "ExecuteTime": {
     "end_time": "2019-12-18T07:26:28.553054Z",
     "start_time": "2019-12-18T07:26:28.537999Z"
    }
   },
   "outputs": [],
   "source": [
    "def extract_year(vin):\n",
    "    from vininfo import Vin\n",
    "    if vin in [np.nan]:\n",
    "        pass\n",
    "    else:\n",
    "        vined= Vin(vin)\n",
    "        return float(vined.annotate()[\"Years\"].replace(\" \",\"\").split(\",\")[0])"
   ]
  },
  {
   "cell_type": "code",
   "execution_count": 100,
   "metadata": {
    "ExecuteTime": {
     "end_time": "2019-12-18T07:41:29.320648Z",
     "start_time": "2019-12-18T07:41:29.314664Z"
    }
   },
   "outputs": [],
   "source": [
    "def extract_manufacturer(vin):\n",
    "    from vininfo import Vin\n",
    "    if vin in [np.nan] or len(str(vin)) != 17 or list(str(vin)) not in [\"O, Q, I\"]:\n",
    "        pass\n",
    "    else:\n",
    "        vined= Vin(vin)\n",
    "        return vined.annotate()[\"Manufacturer\"]"
   ]
  },
  {
   "cell_type": "code",
   "execution_count": 63,
   "metadata": {
    "ExecuteTime": {
     "end_time": "2019-12-18T07:26:43.115419Z",
     "start_time": "2019-12-18T07:26:43.110429Z"
    }
   },
   "outputs": [
    {
     "data": {
      "text/plain": [
       "2007.0"
      ]
     },
     "execution_count": 63,
     "metadata": {},
     "output_type": "execute_result"
    }
   ],
   "source": [
    "extract_year()"
   ]
  },
  {
   "cell_type": "code",
   "execution_count": 87,
   "metadata": {
    "ExecuteTime": {
     "end_time": "2019-12-18T07:37:27.927619Z",
     "start_time": "2019-12-18T07:37:27.863774Z"
    }
   },
   "outputs": [],
   "source": [
    "test= pd.DataFrame()\n",
    "test[\"vin\"]= data[\"VIN\"]\n",
    "test[\"year\"]= data[\"year\"]\n",
    "test[\"manu\"]= data[\"manufacturer\"]"
   ]
  },
  {
   "cell_type": "code",
   "execution_count": 88,
   "metadata": {
    "ExecuteTime": {
     "end_time": "2019-12-18T07:37:43.230136Z",
     "start_time": "2019-12-18T07:37:28.043600Z"
    }
   },
   "outputs": [],
   "source": [
    "test[\"year\"]= test.apply(lambda row: row[1] if row[1] not in [np.nan] \\\n",
    "                         else extract_year(row[0])\n",
    "                        ,axis= 1)"
   ]
  },
  {
   "cell_type": "code",
   "execution_count": 101,
   "metadata": {
    "ExecuteTime": {
     "end_time": "2019-12-18T07:41:45.772204Z",
     "start_time": "2019-12-18T07:41:31.207865Z"
    }
   },
   "outputs": [],
   "source": [
    "test[\"manu\"]= test.apply(lambda row: row[2] if row[2] not in [np.nan] \\\n",
    "                         else extract_manufacturer(row[0])\n",
    "                        ,axis= 1)"
   ]
  },
  {
   "cell_type": "code",
   "execution_count": 102,
   "metadata": {
    "ExecuteTime": {
     "end_time": "2019-12-18T07:42:52.716410Z",
     "start_time": "2019-12-18T07:42:52.624551Z"
    }
   },
   "outputs": [
    {
     "name": "stdout",
     "output_type": "stream",
     "text": [
      "<class 'pandas.core.frame.DataFrame'>\n",
      "RangeIndex: 525839 entries, 0 to 525838\n",
      "Data columns (total 3 columns):\n",
      "vin     305653 non-null object\n",
      "year    524399 non-null float64\n",
      "manu    501260 non-null object\n",
      "dtypes: float64(1), object(2)\n",
      "memory usage: 12.0+ MB\n"
     ]
    }
   ],
   "source": [
    "test.info()"
   ]
  },
  {
   "cell_type": "code",
   "execution_count": null,
   "metadata": {},
   "outputs": [],
   "source": []
  }
 ],
 "metadata": {
  "kernelspec": {
   "display_name": "Python 3",
   "language": "python",
   "name": "python3"
  },
  "language_info": {
   "codemirror_mode": {
    "name": "ipython",
    "version": 3
   },
   "file_extension": ".py",
   "mimetype": "text/x-python",
   "name": "python",
   "nbconvert_exporter": "python",
   "pygments_lexer": "ipython3",
   "version": "3.7.4"
  }
 },
 "nbformat": 4,
 "nbformat_minor": 2
}
